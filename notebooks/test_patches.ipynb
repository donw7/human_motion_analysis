{
 "cells": [
  {
   "cell_type": "code",
   "execution_count": null,
   "metadata": {},
   "outputs": [],
   "source": [
    "%cd .."
   ]
  },
  {
   "cell_type": "code",
   "execution_count": null,
   "metadata": {},
   "outputs": [],
   "source": [
    "import matplotlib.pyplot as plt\n",
    "from matplotlib.path import Path\n",
    "import matplotlib.patches as patches\n",
    "import pickle as pkl\n",
    "import pandas as pd\n",
    "import numpy as np\n",
    "from src.io.utils import Config\n",
    "\n",
    "config = Config()\n"
   ]
  },
  {
   "cell_type": "code",
   "execution_count": null,
   "metadata": {},
   "outputs": [],
   "source": [
    "def load_edges():\n",
    "\t\twith open('out_keypoints.pkl', 'rb') as file:\n",
    "\t\t\tout_keypoints = pkl.load(file)\n",
    "\t\t\n",
    "\t\twith open('out_edges.pkl', 'rb') as file:\n",
    "\t\t\tout_edges = pkl.load(file)\n",
    "\t\treturn out_keypoints, out_edges\n",
    "\n",
    "if 1 == 1:\n",
    "\n",
    "\tout_keypoints, out_edges = load_edges()\n",
    "\tout_edges = out_edges.reshape(-1, 72).astype('float32')\n",
    "\tname_combinations = config.get_name_combinations()\n",
    "\tdf_edgenames = pd.DataFrame(name_combinations, columns=[\"name\"])\n",
    "\n",
    "\tfeature_query = [\"left_elbow-left_wrist-start_y\",\n",
    "\t\t\t\t\"left_elbow-left_wrist-end_y\",\n",
    "\t\t\t\t\"right_elbow-right_wrist-start_y\",\n",
    "\t\t\t\t\"right_elbow-right_wrist-end_y\", \n",
    "\t\t\t\t\"left_knee-left_ankle-start_y\",\n",
    "\t\t]\n",
    "\t\n",
    "\tidx = df_edgenames.index[df_edgenames.name.isin(feature_query)].values\n",
    "\n",
    "\tfig, ax = plt.subplots()\n",
    "\tax.plot(out_edges[:,idx])\n",
    "\tax.set_xlabel('Frame')\n",
    "\tax.set_ylabel('xy position')\n",
    "\tax.legend(feature_query, loc='upper left', bbox_to_anchor=(1, 1))"
   ]
  },
  {
   "cell_type": "code",
   "execution_count": null,
   "metadata": {},
   "outputs": [],
   "source": [
    "\n",
    "\n",
    "verts = [\n",
    "   (0., 0.),  # left, bottom\n",
    "   (0., 1.),  # left, top\n",
    "   (1., 1.),  # right, top\n",
    "   (1., 0.),  # right, bottom\n",
    "   (0., 0.),  # ignored\n",
    "]\n",
    "\n",
    "codes = [\n",
    "    Path.MOVETO,\n",
    "    Path.LINETO,\n",
    "    Path.LINETO,\n",
    "    Path.LINETO,\n",
    "    Path.CLOSEPOLY,\n",
    "]\n",
    "\n",
    "path = Path(verts, codes)\n",
    "\n",
    "fig, ax = plt.subplots()\n",
    "patch = patches.PathPatch(path, facecolor='orange', lw=2)\n",
    "ax.add_patch(patch)\n",
    "ax.set_xlim(-2, 2)\n",
    "ax.set_ylim(-2, 2)\n",
    "plt.show()"
   ]
  }
 ],
 "metadata": {
  "kernelspec": {
   "display_name": "Python 3.9.1 64-bit",
   "language": "python",
   "name": "python3"
  },
  "language_info": {
   "name": "python",
   "version": "3.9.1 (v3.9.1:1e5d33e9b9, Dec  7 2020, 12:44:01) \n[Clang 12.0.0 (clang-1200.0.32.27)]"
  },
  "orig_nbformat": 4,
  "vscode": {
   "interpreter": {
    "hash": "aee8b7b246df8f9039afb4144a1f6fd8d2ca17a180786b69acc140d282b71a49"
   }
  }
 },
 "nbformat": 4,
 "nbformat_minor": 2
}
