{
 "cells": [
  {
   "cell_type": "markdown",
   "metadata": {},
   "source": [
    "# Initial tests of keras tuner for LSTM motion prediction"
   ]
  },
  {
   "cell_type": "markdown",
   "metadata": {},
   "source": [
    "# load preliminaries as before"
   ]
  },
  {
   "cell_type": "code",
   "execution_count": 1,
   "metadata": {},
   "outputs": [],
   "source": [
    "import tensorflow as tf\n",
    "import numpy as np\n",
    "import pandas as pd\n",
    "from scipy import stats\n",
    "import cv2\n",
    "import yaml\n",
    "import os\n",
    "import glob\n",
    "import pickle as pkl\n",
    "import sys\n",
    "import importlib"
   ]
  },
  {
   "cell_type": "code",
   "execution_count": 2,
   "metadata": {},
   "outputs": [],
   "source": [
    "# load yaml configuration file w/ keypoints dict ()\n",
    "# assumes ..\\ is root of project\n",
    "# e.g. C:\\MLprojects\\motion_analysis\\configs\\config_analysis.yaml\n",
    "\n",
    "# set up paths\n",
    "ROOT_DIR = r\"c:\\MLprojects\\motion_analysis\"\n",
    "CONFIG_DIR = \"configs\"\n",
    "\n",
    "def load_config(config_name):\n",
    "    with open(os.path.join(ROOT_DIR, CONFIG_DIR, config_name)) as file:\n",
    "        config = yaml.full_load(file)\n",
    "    return config\n",
    "\n",
    "CONFIG_KEYPOINTS = load_config(r\"keypoints.yaml\")\n",
    "CONFIG_EDGE_COLORS = load_config(r\"edge_colors.yaml\")\n",
    "PARAMS = load_config(r\"analysis_parameters.yaml\")\n",
    "\n",
    "# Confidence score to determine whether a keypoint prediction is reliable, e.g. for cropping algorithm during inference\n",
    "KEYPOINT_THRESH_SCORE_CROP = load_config('analysis_parameters.yaml')['KEYPOINT_THRESH_SCORE_CROP']\n"
   ]
  },
  {
   "cell_type": "code",
   "execution_count": 3,
   "metadata": {},
   "outputs": [],
   "source": [
    "os.chdir(ROOT_DIR)"
   ]
  },
  {
   "cell_type": "code",
   "execution_count": 4,
   "metadata": {},
   "outputs": [],
   "source": [
    "# custom modules\n",
    "from src.io import iomod\n",
    "from src.inference import inference\n",
    "from src.visualization import draw\n",
    "from src.analysis import analysisphysics\n",
    "from src.tests import testdraw, structshape\n",
    "\n",
    "# Import plotting libraries\n",
    "from matplotlib import pyplot as plt\n",
    "from matplotlib.collections import LineCollection # likely limited to draw module\n",
    "import matplotlib.patches as patches\n",
    "import seaborn as sns\n",
    "\n",
    "# Some modules to display an animation using imageio.\n",
    "import imageio\n",
    "from IPython.display import HTML, display, Image"
   ]
  },
  {
   "cell_type": "markdown",
   "metadata": {},
   "source": [
    "notes:"
   ]
  },
  {
   "cell_type": "code",
   "execution_count": 5,
   "metadata": {},
   "outputs": [
    {
     "data": {
      "text/plain": [
       "''"
      ]
     },
     "execution_count": 5,
     "metadata": {},
     "output_type": "execute_result"
    }
   ],
   "source": [
    "'''\n",
    "loads into dictionaries of keypoints and edges mappings, e.g.:\n",
    "\n",
    "CONFIG_KEYPOINTS = {\n",
    "    'nose': 0,\n",
    "    'left_eye': 1,\n",
    "    'right_eye': 2,\n",
    "    'left_ear': 3,\n",
    "    'right_ear': 4,\n",
    "    'left_shoulder': 5,\n",
    "    'right_shoulder': 6,\n",
    "    'left_elbow': 7,\n",
    "    'right_elbow': 8,\n",
    "    'left_wrist': 9,\n",
    "    'right_wrist': 10,\n",
    "    'left_hip': 11,\n",
    "    'right_hip': 12,\n",
    "    'left_knee': 13,\n",
    "    'right_knee': 14,\n",
    "    'left_ankle': 15,\n",
    "    'right_ankle': 16\n",
    "}\n",
    "\n",
    "CONFIG_EDGE_COLORS is an ordered dictionary of edge pairs and colors, e.g.:\n",
    "OrderedDict([((0, 1), 'm'),\n",
    "             ((0, 2), 'c'),\n",
    "             ((0, 5), 'm'),\n",
    "             ((0, 6), 'c'),\n",
    "             ((1, 3), 'm'),\n",
    "             ((2, 4), 'c'),\n",
    "             ((5, 6), 'y'),\n",
    "             ((5, 7), 'm'),\n",
    "             ((5, 11), 'm'),\n",
    "             ((6, 8), 'c'),\n",
    "             ((6, 12), 'c'),\n",
    "             ((7, 9), 'm'),\n",
    "             ((8, 10), 'c'),\n",
    "             ((11, 12), 'y'),\n",
    "             ((11, 13), 'm'),\n",
    "             ((12, 14), 'c'),\n",
    "             ((13, 15), 'm'),\n",
    "             ((14, 16), 'c')])\n",
    "\n",
    "# use e.g. list(CONFIG_EDGE_COLORS).index((2,4)) to get index of edge color\n",
    "\n",
    "'''\n",
    ";"
   ]
  },
  {
   "cell_type": "markdown",
   "metadata": {},
   "source": [
    "# checkpoint to start from loaded files"
   ]
  },
  {
   "cell_type": "code",
   "execution_count": 6,
   "metadata": {},
   "outputs": [
    {
     "name": "stdout",
     "output_type": "stream",
     "text": [
      "FileNotFoundError, Skipping data\\infinity\\InfinityAI_InfiniteRep_curl_v1.0\\data\\000092.mp4\n",
      "FileNotFoundError, Skipping data\\infinity\\InfinityAI_InfiniteRep_curl_v1.0\\data\\000093.mp4\n",
      "FileNotFoundError, Skipping data\\infinity\\InfinityAI_InfiniteRep_curl_v1.0\\data\\000094.mp4\n",
      "FileNotFoundError, Skipping data\\infinity\\InfinityAI_InfiniteRep_curl_v1.0\\data\\000095.mp4\n",
      "FileNotFoundError, Skipping data\\infinity\\InfinityAI_InfiniteRep_curl_v1.0\\data\\000096.mp4\n",
      "FileNotFoundError, Skipping data\\infinity\\InfinityAI_InfiniteRep_curl_v1.0\\data\\000097.mp4\n",
      "FileNotFoundError, Skipping data\\infinity\\InfinityAI_InfiniteRep_curl_v1.0\\data\\000098.mp4\n",
      "FileNotFoundError, Skipping data\\infinity\\InfinityAI_InfiniteRep_curl_v1.0\\data\\000099.mp4\n"
     ]
    }
   ],
   "source": [
    "import fnmatch\n",
    "\n",
    "# load all\n",
    "with open(r\"data\\compiled\\df_kpts\", 'rb') as f:\n",
    "  df_kpts = pkl.load(f)\n",
    "with open(r\"data\\compiled\\edge_vel_all\", 'rb') as f:\n",
    "  edge_vel_all = pkl.load(f)\n",
    "with open(r\"data\\compiled\\edge_length_all\", 'rb') as f:\n",
    "  edge_length_all = pkl.load(f)\n",
    "\n",
    "infinityds_mp4paths = glob.glob(\"data\\**\\*.mp4\", recursive=True)\n",
    "armidx = [path for path in infinityds_mp4paths if \"arm\" in path]\n",
    "curlidx = [path for path in infinityds_mp4paths if \"curl\" in path]\n",
    "\n",
    "# concatenate all the paths\n",
    "infinityds_mp4paths_armmotion = armidx + curlidx\n",
    "infinityds_mp4paths_armmotion\n",
    "\n",
    "# remove for now jitter or bilateral swapping or other poor quality issues (visualized with x-y plots below)\n",
    "remove_pattern = [\"*armraise*000004.mp4\", \"*armraise*000005.mp4\", \"*armraise*000006.mp4\", \"*armraise*000009.mp4\", \"*armraise*000013.mp4\", \"*armraise*000018.mp4\", \\\n",
    "  \"*armraise*000019.mp4\", \"*armraise*000033.mp4\", \"*armraise*000039.mp4\", \"*armraise*000042.mp4\", \"*armraise*000044.mp4\", \"*armraise*000066.mp4\", \"*armraise*000076.mp4\", \"*armraise*000094.mp4\", \"*armraise*000097.mp4\", \"*armraise*000099.mp4\",\n",
    "  \"*armraise*000025.mp4\", \"*armraise*000044.mp4\", \"*armraise*000035.mp4\", \"*armraise*000026.mp4\", \"*armraise*000020.mp4\", \\\n",
    "  \"*curl*000001.mp4\", \"*curl*000022.mp4\", \"*curl*000025.mp4\", \"*curl*000034.mp4\", \"*curl*000035.mp4\", \"*curl*000043.mp4\", \"*curl*000049.mp4\", \\\n",
    "  \"*curl*000053.mp4\", \"*curl*000056.mp4\", \"*curl*000057.mp4\", \"*curl*000060.mp4\", \"*curl*000061.mp4\", \"*curl*000068.mp4\", \"*curl*000080.mp4\", \\\n",
    "  \"*curl*000080.mp4\", \"*curl*000082.mp4\", \"*curl*000090.mp4\",]\n",
    "\n",
    "# remove from list\n",
    "infinityds_mp4paths_armmotion_rmv = [path for path in infinityds_mp4paths_armmotion \\\n",
    "  if not any(fnmatch.fnmatch(path, r) for r in remove_pattern)]\n",
    "\n",
    "data_all, skippct, skippedpaths = iomod.compile_data_wrapper(infinityds_mp4paths_armmotion_rmv)\n",
    "\n",
    "# remove skipped paths from infinityds_mp4paths_armmotion\n",
    "infinityds_mp4paths_armmotion_rmv = [path for path in infinityds_mp4paths_armmotion_rmv if path not in skippedpaths]"
   ]
  },
  {
   "cell_type": "markdown",
   "metadata": {},
   "source": [
    "# set up train, val, test splits"
   ]
  },
  {
   "cell_type": "code",
   "execution_count": 7,
   "metadata": {},
   "outputs": [
    {
     "name": "stdout",
     "output_type": "stream",
     "text": [
      "edge_tuple=(0, 1) tuple of 2 int\n",
      "kpt1_name='nose' str\n",
      "kpt2_name='left_eye' str\n"
     ]
    }
   ],
   "source": [
    "edge_idx = 0\n",
    "# list(CONFIG_KEYPOINTS)[edge_tuple[0]]\n",
    "edge_tuple = list(CONFIG_EDGE_COLORS)[edge_idx]\n",
    "print(f\"{edge_tuple=}\", structshape.getshape(edge_tuple))\n",
    "kpt1_name = list(CONFIG_KEYPOINTS)[edge_tuple[0]]\n",
    "print(f\"{kpt1_name=}\", structshape.getshape(kpt1_name))\n",
    "kpt2_name = list(CONFIG_KEYPOINTS)[edge_tuple[1]]\n",
    "print(f\"{kpt2_name=}\", structshape.getshape(kpt2_name))"
   ]
  },
  {
   "cell_type": "code",
   "execution_count": 8,
   "metadata": {},
   "outputs": [],
   "source": [
    "# loop over all out_edges and compute pdist of each edge\n",
    "edge_length_all = {}\n",
    "edge_names = []\n",
    "num_edges = 18\n",
    "\n",
    "# map edge connectivity keys onto keypoint names for display\n",
    "for edge_idx in range(num_edges):\n",
    "  edge_tuple = list(CONFIG_EDGE_COLORS)[edge_idx]\n",
    "  kpt1_name = list(CONFIG_KEYPOINTS)[edge_tuple[0]]\n",
    "  kpt2_name = list(CONFIG_KEYPOINTS)[edge_tuple[1]]\n",
    "  name = f\"{kpt1_name}-{kpt2_name}\"\n",
    "  edge_names.append(name)\n"
   ]
  },
  {
   "cell_type": "code",
   "execution_count": 9,
   "metadata": {},
   "outputs": [
    {
     "data": {
      "text/plain": [
       "['nose-left_eye',\n",
       " 'nose-right_eye',\n",
       " 'nose-left_shoulder',\n",
       " 'nose-right_shoulder',\n",
       " 'left_eye-left_ear',\n",
       " 'right_eye-right_ear',\n",
       " 'left_shoulder-right_shoulder',\n",
       " 'left_shoulder-left_elbow',\n",
       " 'left_shoulder-left_hip',\n",
       " 'right_shoulder-right_elbow',\n",
       " 'right_shoulder-right_hip',\n",
       " 'left_elbow-left_wrist',\n",
       " 'right_elbow-right_wrist',\n",
       " 'left_hip-right_hip',\n",
       " 'left_hip-left_knee',\n",
       " 'right_hip-right_knee',\n",
       " 'left_knee-left_ankle',\n",
       " 'right_knee-right_ankle']"
      ]
     },
     "execution_count": 9,
     "metadata": {},
     "output_type": "execute_result"
    }
   ],
   "source": [
    "edge_names"
   ]
  },
  {
   "cell_type": "code",
   "execution_count": 10,
   "metadata": {},
   "outputs": [
    {
     "data": {
      "text/html": [
       "<div>\n",
       "<style scoped>\n",
       "    .dataframe tbody tr th:only-of-type {\n",
       "        vertical-align: middle;\n",
       "    }\n",
       "\n",
       "    .dataframe tbody tr th {\n",
       "        vertical-align: top;\n",
       "    }\n",
       "\n",
       "    .dataframe thead th {\n",
       "        text-align: right;\n",
       "    }\n",
       "</style>\n",
       "<table border=\"1\" class=\"dataframe\">\n",
       "  <thead>\n",
       "    <tr style=\"text-align: right;\">\n",
       "      <th></th>\n",
       "      <th>path</th>\n",
       "      <th>nose-left_eye-start_x</th>\n",
       "      <th>nose-left_eye-start_y</th>\n",
       "      <th>nose-left_eye-end_x</th>\n",
       "      <th>nose-left_eye-end_y</th>\n",
       "      <th>nose-right_eye-start_x</th>\n",
       "      <th>nose-right_eye-start_y</th>\n",
       "      <th>nose-right_eye-end_x</th>\n",
       "      <th>nose-right_eye-end_y</th>\n",
       "      <th>nose-left_shoulder-start_x</th>\n",
       "      <th>...</th>\n",
       "      <th>right_hip-right_knee-end_x</th>\n",
       "      <th>right_hip-right_knee-end_y</th>\n",
       "      <th>left_knee-left_ankle-start_x</th>\n",
       "      <th>left_knee-left_ankle-start_y</th>\n",
       "      <th>left_knee-left_ankle-end_x</th>\n",
       "      <th>left_knee-left_ankle-end_y</th>\n",
       "      <th>right_knee-right_ankle-start_x</th>\n",
       "      <th>right_knee-right_ankle-start_y</th>\n",
       "      <th>right_knee-right_ankle-end_x</th>\n",
       "      <th>right_knee-right_ankle-end_y</th>\n",
       "    </tr>\n",
       "  </thead>\n",
       "  <tbody>\n",
       "    <tr>\n",
       "      <th>0</th>\n",
       "      <td>data\\infinity\\InfinityAI_InfiniteRep_curl_v1.0...</td>\n",
       "      <td>117.311554</td>\n",
       "      <td>97.287514</td>\n",
       "      <td>118.765793</td>\n",
       "      <td>94.782509</td>\n",
       "      <td>117.311554</td>\n",
       "      <td>97.287514</td>\n",
       "      <td>114.363327</td>\n",
       "      <td>94.9991</td>\n",
       "      <td>117.311554</td>\n",
       "      <td>...</td>\n",
       "      <td>103.528488</td>\n",
       "      <td>173.878571</td>\n",
       "      <td>119.736069</td>\n",
       "      <td>171.444473</td>\n",
       "      <td>121.634651</td>\n",
       "      <td>198.723907</td>\n",
       "      <td>103.528488</td>\n",
       "      <td>173.878571</td>\n",
       "      <td>99.265594</td>\n",
       "      <td>203.227219</td>\n",
       "    </tr>\n",
       "    <tr>\n",
       "      <th>1</th>\n",
       "      <td>data\\infinity\\InfinityAI_InfiniteRep_curl_v1.0...</td>\n",
       "      <td>116.980568</td>\n",
       "      <td>97.568848</td>\n",
       "      <td>117.59877</td>\n",
       "      <td>94.913055</td>\n",
       "      <td>116.980568</td>\n",
       "      <td>97.568848</td>\n",
       "      <td>114.414207</td>\n",
       "      <td>94.918877</td>\n",
       "      <td>116.980568</td>\n",
       "      <td>...</td>\n",
       "      <td>103.395462</td>\n",
       "      <td>175.480469</td>\n",
       "      <td>120.241241</td>\n",
       "      <td>173.100174</td>\n",
       "      <td>119.818604</td>\n",
       "      <td>200.013046</td>\n",
       "      <td>103.395462</td>\n",
       "      <td>175.480469</td>\n",
       "      <td>98.224579</td>\n",
       "      <td>205.942291</td>\n",
       "    </tr>\n",
       "    <tr>\n",
       "      <th>2</th>\n",
       "      <td>data\\infinity\\InfinityAI_InfiniteRep_curl_v1.0...</td>\n",
       "      <td>117.048073</td>\n",
       "      <td>96.60508</td>\n",
       "      <td>118.12706</td>\n",
       "      <td>94.248016</td>\n",
       "      <td>117.048073</td>\n",
       "      <td>96.60508</td>\n",
       "      <td>114.458679</td>\n",
       "      <td>94.44355</td>\n",
       "      <td>117.048073</td>\n",
       "      <td>...</td>\n",
       "      <td>103.109077</td>\n",
       "      <td>176.11232</td>\n",
       "      <td>120.076874</td>\n",
       "      <td>173.390137</td>\n",
       "      <td>120.177742</td>\n",
       "      <td>200.247864</td>\n",
       "      <td>103.109077</td>\n",
       "      <td>176.11232</td>\n",
       "      <td>98.21666</td>\n",
       "      <td>205.737045</td>\n",
       "    </tr>\n",
       "    <tr>\n",
       "      <th>3</th>\n",
       "      <td>data\\infinity\\InfinityAI_InfiniteRep_curl_v1.0...</td>\n",
       "      <td>117.109116</td>\n",
       "      <td>96.658157</td>\n",
       "      <td>118.413589</td>\n",
       "      <td>94.110092</td>\n",
       "      <td>117.109116</td>\n",
       "      <td>96.658157</td>\n",
       "      <td>114.459587</td>\n",
       "      <td>94.265472</td>\n",
       "      <td>117.109116</td>\n",
       "      <td>...</td>\n",
       "      <td>103.06691</td>\n",
       "      <td>174.715988</td>\n",
       "      <td>119.930344</td>\n",
       "      <td>173.0578</td>\n",
       "      <td>119.732269</td>\n",
       "      <td>200.32959</td>\n",
       "      <td>103.06691</td>\n",
       "      <td>174.715988</td>\n",
       "      <td>98.427376</td>\n",
       "      <td>205.849167</td>\n",
       "    </tr>\n",
       "    <tr>\n",
       "      <th>4</th>\n",
       "      <td>data\\infinity\\InfinityAI_InfiniteRep_curl_v1.0...</td>\n",
       "      <td>116.713631</td>\n",
       "      <td>97.052437</td>\n",
       "      <td>117.886597</td>\n",
       "      <td>94.414413</td>\n",
       "      <td>116.713631</td>\n",
       "      <td>97.052437</td>\n",
       "      <td>113.845207</td>\n",
       "      <td>94.625885</td>\n",
       "      <td>116.713631</td>\n",
       "      <td>...</td>\n",
       "      <td>103.217522</td>\n",
       "      <td>175.875</td>\n",
       "      <td>120.620384</td>\n",
       "      <td>174.009033</td>\n",
       "      <td>119.314163</td>\n",
       "      <td>200.516937</td>\n",
       "      <td>103.217522</td>\n",
       "      <td>175.875</td>\n",
       "      <td>98.810158</td>\n",
       "      <td>205.743134</td>\n",
       "    </tr>\n",
       "    <tr>\n",
       "      <th>...</th>\n",
       "      <td>...</td>\n",
       "      <td>...</td>\n",
       "      <td>...</td>\n",
       "      <td>...</td>\n",
       "      <td>...</td>\n",
       "      <td>...</td>\n",
       "      <td>...</td>\n",
       "      <td>...</td>\n",
       "      <td>...</td>\n",
       "      <td>...</td>\n",
       "      <td>...</td>\n",
       "      <td>...</td>\n",
       "      <td>...</td>\n",
       "      <td>...</td>\n",
       "      <td>...</td>\n",
       "      <td>...</td>\n",
       "      <td>...</td>\n",
       "      <td>...</td>\n",
       "      <td>...</td>\n",
       "      <td>...</td>\n",
       "      <td>...</td>\n",
       "    </tr>\n",
       "    <tr>\n",
       "      <th>39803</th>\n",
       "      <td>data\\infinity\\InfinityAI_InfiniteRep_curl_v1.0...</td>\n",
       "      <td>32.932693</td>\n",
       "      <td>87.491226</td>\n",
       "      <td>34.160515</td>\n",
       "      <td>85.063126</td>\n",
       "      <td>32.932693</td>\n",
       "      <td>87.491226</td>\n",
       "      <td>30.697128</td>\n",
       "      <td>84.900055</td>\n",
       "      <td>32.932693</td>\n",
       "      <td>...</td>\n",
       "      <td>23.209333</td>\n",
       "      <td>164.114243</td>\n",
       "      <td>40.934921</td>\n",
       "      <td>163.351303</td>\n",
       "      <td>41.814709</td>\n",
       "      <td>189.330154</td>\n",
       "      <td>23.209333</td>\n",
       "      <td>164.114243</td>\n",
       "      <td>17.779633</td>\n",
       "      <td>193.870911</td>\n",
       "    </tr>\n",
       "    <tr>\n",
       "      <th>39804</th>\n",
       "      <td>data\\infinity\\InfinityAI_InfiniteRep_curl_v1.0...</td>\n",
       "      <td>32.24337</td>\n",
       "      <td>87.011612</td>\n",
       "      <td>33.710361</td>\n",
       "      <td>84.865463</td>\n",
       "      <td>32.24337</td>\n",
       "      <td>87.011612</td>\n",
       "      <td>29.829325</td>\n",
       "      <td>84.894356</td>\n",
       "      <td>32.24337</td>\n",
       "      <td>...</td>\n",
       "      <td>22.97463</td>\n",
       "      <td>164.374634</td>\n",
       "      <td>40.716354</td>\n",
       "      <td>163.984116</td>\n",
       "      <td>41.823055</td>\n",
       "      <td>189.681992</td>\n",
       "      <td>22.97463</td>\n",
       "      <td>164.374634</td>\n",
       "      <td>17.760633</td>\n",
       "      <td>193.754059</td>\n",
       "    </tr>\n",
       "    <tr>\n",
       "      <th>39805</th>\n",
       "      <td>data\\infinity\\InfinityAI_InfiniteRep_curl_v1.0...</td>\n",
       "      <td>31.412846</td>\n",
       "      <td>87.171638</td>\n",
       "      <td>33.220818</td>\n",
       "      <td>84.9534</td>\n",
       "      <td>31.412846</td>\n",
       "      <td>87.171638</td>\n",
       "      <td>29.136284</td>\n",
       "      <td>84.844925</td>\n",
       "      <td>31.412846</td>\n",
       "      <td>...</td>\n",
       "      <td>23.187</td>\n",
       "      <td>164.30365</td>\n",
       "      <td>40.750034</td>\n",
       "      <td>163.847687</td>\n",
       "      <td>41.666595</td>\n",
       "      <td>189.880096</td>\n",
       "      <td>23.187</td>\n",
       "      <td>164.30365</td>\n",
       "      <td>17.734684</td>\n",
       "      <td>193.77037</td>\n",
       "    </tr>\n",
       "    <tr>\n",
       "      <th>39806</th>\n",
       "      <td>data\\infinity\\InfinityAI_InfiniteRep_curl_v1.0...</td>\n",
       "      <td>32.017666</td>\n",
       "      <td>87.3479</td>\n",
       "      <td>33.412876</td>\n",
       "      <td>85.248749</td>\n",
       "      <td>32.017666</td>\n",
       "      <td>87.3479</td>\n",
       "      <td>29.795061</td>\n",
       "      <td>85.229538</td>\n",
       "      <td>32.017666</td>\n",
       "      <td>...</td>\n",
       "      <td>23.141119</td>\n",
       "      <td>163.702087</td>\n",
       "      <td>40.43391</td>\n",
       "      <td>162.805649</td>\n",
       "      <td>42.111633</td>\n",
       "      <td>189.778885</td>\n",
       "      <td>23.141119</td>\n",
       "      <td>163.702087</td>\n",
       "      <td>17.715044</td>\n",
       "      <td>193.876389</td>\n",
       "    </tr>\n",
       "    <tr>\n",
       "      <th>39807</th>\n",
       "      <td>data\\infinity\\InfinityAI_InfiniteRep_curl_v1.0...</td>\n",
       "      <td>30.65992</td>\n",
       "      <td>87.82798</td>\n",
       "      <td>32.449917</td>\n",
       "      <td>85.418106</td>\n",
       "      <td>30.65992</td>\n",
       "      <td>87.82798</td>\n",
       "      <td>28.516346</td>\n",
       "      <td>85.356339</td>\n",
       "      <td>30.65992</td>\n",
       "      <td>...</td>\n",
       "      <td>23.110401</td>\n",
       "      <td>163.989807</td>\n",
       "      <td>40.084152</td>\n",
       "      <td>162.808334</td>\n",
       "      <td>41.432606</td>\n",
       "      <td>189.09523</td>\n",
       "      <td>23.110401</td>\n",
       "      <td>163.989807</td>\n",
       "      <td>17.890869</td>\n",
       "      <td>193.886139</td>\n",
       "    </tr>\n",
       "  </tbody>\n",
       "</table>\n",
       "<p>39808 rows × 73 columns</p>\n",
       "</div>"
      ],
      "text/plain": [
       "                                                    path  \\\n",
       "0      data\\infinity\\InfinityAI_InfiniteRep_curl_v1.0...   \n",
       "1      data\\infinity\\InfinityAI_InfiniteRep_curl_v1.0...   \n",
       "2      data\\infinity\\InfinityAI_InfiniteRep_curl_v1.0...   \n",
       "3      data\\infinity\\InfinityAI_InfiniteRep_curl_v1.0...   \n",
       "4      data\\infinity\\InfinityAI_InfiniteRep_curl_v1.0...   \n",
       "...                                                  ...   \n",
       "39803  data\\infinity\\InfinityAI_InfiniteRep_curl_v1.0...   \n",
       "39804  data\\infinity\\InfinityAI_InfiniteRep_curl_v1.0...   \n",
       "39805  data\\infinity\\InfinityAI_InfiniteRep_curl_v1.0...   \n",
       "39806  data\\infinity\\InfinityAI_InfiniteRep_curl_v1.0...   \n",
       "39807  data\\infinity\\InfinityAI_InfiniteRep_curl_v1.0...   \n",
       "\n",
       "      nose-left_eye-start_x nose-left_eye-start_y nose-left_eye-end_x  \\\n",
       "0                117.311554             97.287514          118.765793   \n",
       "1                116.980568             97.568848           117.59877   \n",
       "2                117.048073              96.60508           118.12706   \n",
       "3                117.109116             96.658157          118.413589   \n",
       "4                116.713631             97.052437          117.886597   \n",
       "...                     ...                   ...                 ...   \n",
       "39803             32.932693             87.491226           34.160515   \n",
       "39804              32.24337             87.011612           33.710361   \n",
       "39805             31.412846             87.171638           33.220818   \n",
       "39806             32.017666               87.3479           33.412876   \n",
       "39807              30.65992              87.82798           32.449917   \n",
       "\n",
       "      nose-left_eye-end_y nose-right_eye-start_x nose-right_eye-start_y  \\\n",
       "0               94.782509             117.311554              97.287514   \n",
       "1               94.913055             116.980568              97.568848   \n",
       "2               94.248016             117.048073               96.60508   \n",
       "3               94.110092             117.109116              96.658157   \n",
       "4               94.414413             116.713631              97.052437   \n",
       "...                   ...                    ...                    ...   \n",
       "39803           85.063126              32.932693              87.491226   \n",
       "39804           84.865463               32.24337              87.011612   \n",
       "39805             84.9534              31.412846              87.171638   \n",
       "39806           85.248749              32.017666                87.3479   \n",
       "39807           85.418106               30.65992               87.82798   \n",
       "\n",
       "      nose-right_eye-end_x nose-right_eye-end_y nose-left_shoulder-start_x  \\\n",
       "0               114.363327              94.9991                 117.311554   \n",
       "1               114.414207            94.918877                 116.980568   \n",
       "2               114.458679             94.44355                 117.048073   \n",
       "3               114.459587            94.265472                 117.109116   \n",
       "4               113.845207            94.625885                 116.713631   \n",
       "...                    ...                  ...                        ...   \n",
       "39803            30.697128            84.900055                  32.932693   \n",
       "39804            29.829325            84.894356                   32.24337   \n",
       "39805            29.136284            84.844925                  31.412846   \n",
       "39806            29.795061            85.229538                  32.017666   \n",
       "39807            28.516346            85.356339                   30.65992   \n",
       "\n",
       "       ... right_hip-right_knee-end_x right_hip-right_knee-end_y  \\\n",
       "0      ...                 103.528488                 173.878571   \n",
       "1      ...                 103.395462                 175.480469   \n",
       "2      ...                 103.109077                  176.11232   \n",
       "3      ...                  103.06691                 174.715988   \n",
       "4      ...                 103.217522                    175.875   \n",
       "...    ...                        ...                        ...   \n",
       "39803  ...                  23.209333                 164.114243   \n",
       "39804  ...                   22.97463                 164.374634   \n",
       "39805  ...                     23.187                  164.30365   \n",
       "39806  ...                  23.141119                 163.702087   \n",
       "39807  ...                  23.110401                 163.989807   \n",
       "\n",
       "      left_knee-left_ankle-start_x left_knee-left_ankle-start_y  \\\n",
       "0                       119.736069                   171.444473   \n",
       "1                       120.241241                   173.100174   \n",
       "2                       120.076874                   173.390137   \n",
       "3                       119.930344                     173.0578   \n",
       "4                       120.620384                   174.009033   \n",
       "...                            ...                          ...   \n",
       "39803                    40.934921                   163.351303   \n",
       "39804                    40.716354                   163.984116   \n",
       "39805                    40.750034                   163.847687   \n",
       "39806                     40.43391                   162.805649   \n",
       "39807                    40.084152                   162.808334   \n",
       "\n",
       "      left_knee-left_ankle-end_x left_knee-left_ankle-end_y  \\\n",
       "0                     121.634651                 198.723907   \n",
       "1                     119.818604                 200.013046   \n",
       "2                     120.177742                 200.247864   \n",
       "3                     119.732269                  200.32959   \n",
       "4                     119.314163                 200.516937   \n",
       "...                          ...                        ...   \n",
       "39803                  41.814709                 189.330154   \n",
       "39804                  41.823055                 189.681992   \n",
       "39805                  41.666595                 189.880096   \n",
       "39806                  42.111633                 189.778885   \n",
       "39807                  41.432606                  189.09523   \n",
       "\n",
       "      right_knee-right_ankle-start_x right_knee-right_ankle-start_y  \\\n",
       "0                         103.528488                     173.878571   \n",
       "1                         103.395462                     175.480469   \n",
       "2                         103.109077                      176.11232   \n",
       "3                          103.06691                     174.715988   \n",
       "4                         103.217522                        175.875   \n",
       "...                              ...                            ...   \n",
       "39803                      23.209333                     164.114243   \n",
       "39804                       22.97463                     164.374634   \n",
       "39805                         23.187                      164.30365   \n",
       "39806                      23.141119                     163.702087   \n",
       "39807                      23.110401                     163.989807   \n",
       "\n",
       "      right_knee-right_ankle-end_x right_knee-right_ankle-end_y  \n",
       "0                        99.265594                   203.227219  \n",
       "1                        98.224579                   205.942291  \n",
       "2                         98.21666                   205.737045  \n",
       "3                        98.427376                   205.849167  \n",
       "4                        98.810158                   205.743134  \n",
       "...                            ...                          ...  \n",
       "39803                    17.779633                   193.870911  \n",
       "39804                    17.760633                   193.754059  \n",
       "39805                    17.734684                    193.77037  \n",
       "39806                    17.715044                   193.876389  \n",
       "39807                    17.890869                   193.886139  \n",
       "\n",
       "[39808 rows x 73 columns]"
      ]
     },
     "execution_count": 10,
     "metadata": {},
     "output_type": "execute_result"
    }
   ],
   "source": [
    "from sklearn.base import BaseEstimator, TransformerMixin\n",
    "from sklearn.compose import ColumnTransformer\n",
    "from sklearn.model_selection import GridSearchCV, train_test_split\n",
    "from sklearn.pipeline import Pipeline\n",
    "from sklearn.linear_model import LogisticRegression\n",
    "from sklearn.ensemble import GradientBoostingClassifier\n",
    "\n",
    "import itertools\n",
    "from itertools import product\n",
    "\n",
    "train_paths, test_paths = train_test_split(infinityds_mp4paths_armmotion_rmv, test_size=0.2)\n",
    "train_paths, val_paths = train_test_split(train_paths, test_size=0.2)\n",
    "\n",
    "list_xy = [\"start_x\",\"start_y\", \"end_x\", \"end_y\"]\n",
    "name_combinations = []\n",
    " \n",
    "for e1,e2 in product(edge_names, list_xy):\n",
    "    name_combinations.append(e1 + \"-\" + e2)\n",
    "\n",
    "df_edge_features = pd.DataFrame(columns=[\"path\"]+name_combinations)\n",
    "\n",
    "# limit analysis\n",
    "analyze_idx = list(range(len(train_paths)))\n",
    "train_paths = [val for idx, val in enumerate(train_paths) if idx in analyze_idx]\n",
    "\n",
    "# create features df over paths\n",
    "for path in train_paths:\n",
    "  # flatten to 2-D with combinations of edge-pair-xy features as above\n",
    "  data = data_all[\"out_edges\"][path][:, :, :, :].reshape(-1, 72).astype('float32')\n",
    "  df = pd.DataFrame(data, columns=name_combinations)\n",
    "\n",
    "  # left merge with path\n",
    "  df_path = pd.DataFrame(index=np.arange(len(df)), columns=['path'])\n",
    "  df_path = df_path.assign(path=path)\n",
    "  df_merged = pd.merge(df_path, df, left_index=True, right_index=True)\n",
    "\n",
    "  # vertcat\n",
    "  df_edge_features = pd.concat([df_edge_features, df_merged])\n",
    "\n",
    "df_edge_features.reset_index(drop=True, inplace=True)\n",
    "df_edge_features"
   ]
  },
  {
   "cell_type": "code",
   "execution_count": 11,
   "metadata": {},
   "outputs": [],
   "source": [
    "# find curl or arm raise and extract as labels\n",
    "labels = []\n",
    "for path in train_paths:\n",
    "  for fri in range(data_all[\"out_edges\"][path].shape[0]):\n",
    "    if \"armraise\" in path:\n",
    "      labels.append(0)\n",
    "    elif \"curl\" in path:\n",
    "      labels.append(1)\n",
    "    else:\n",
    "      labels.append(None)"
   ]
  },
  {
   "cell_type": "code",
   "execution_count": 12,
   "metadata": {},
   "outputs": [],
   "source": [
    "# create features df over test paths\n",
    "df_edge_features_test = pd.DataFrame(columns=[\"path\"]+name_combinations)\n",
    "\n",
    "for path in test_paths:\n",
    "  # flatten to 2-D with combinations of edge-pair-xy features as above\n",
    "  data = data_all[\"out_edges\"][path][:, :, :, :].reshape(-1, 72).astype('float32')\n",
    "  df = pd.DataFrame(data, columns=name_combinations)\n",
    "\n",
    "  # left merge with path\n",
    "  df_path = pd.DataFrame(index=np.arange(len(df)), columns=['path'])\n",
    "  df_path = df_path.assign(path=path)\n",
    "  df_merged = pd.merge(df_path, df, left_index=True, right_index=True)\n",
    "\n",
    "  # vertcat\n",
    "  df_edge_features_test = pd.concat([df_edge_features_test, df_merged])\n",
    "\n",
    "df_edge_features_test.reset_index(drop=True, inplace=True)\n",
    "\n",
    "# find curl or arm raise and extract as labels\n",
    "labels_test = []\n",
    "for path in test_paths:\n",
    "  for fri in range(data_all[\"out_edges\"][path].shape[0]):\n",
    "    if \"armraise\" in path:\n",
    "      labels_test.append(0)\n",
    "    elif \"curl\" in path:\n",
    "      labels_test.append(1)\n",
    "    else:\n",
    "      labels_test.append(None)\n"
   ]
  },
  {
   "cell_type": "markdown",
   "metadata": {},
   "source": [
    "plot peak normalized x-y coordinates of relevant upper torso keypoints"
   ]
  },
  {
   "cell_type": "code",
   "execution_count": null,
   "metadata": {},
   "outputs": [],
   "source": [
    "num_kpts = 17\n",
    "analyze_pathidx = range(95, 105)\n",
    "analyze_kptsidx = range(5, 10)\n",
    "num_paths = len(df_kpts.out_keypoints)\n",
    "\n",
    "for pathidx in analyze_pathidx:\n",
    "  plt.figure(figsize=(15, 4))\n",
    "  plt.suptitle(df_kpts.loc[pathidx, 'path'])\n",
    "    \n",
    "  for subi, i in enumerate(analyze_kptsidx):\n",
    "    plt.subplot(5, 1, subi+1)\n",
    "    plt.plot(np.arange(len(df_kpts.out_keypoints[pathidx])), df_kpts.out_keypoints[pathidx][:,i,0] / np.max(df_kpts.out_keypoints[pathidx][:,i,0]))\n",
    "    plt.plot(np.arange(len(df_kpts.out_keypoints[pathidx])), df_kpts.out_keypoints[pathidx][:,i,1] / np.max(df_kpts.out_keypoints[pathidx][:,i,1]))\n",
    "    plt.title(f\"{list(CONFIG_KEYPOINTS)[i]}\")\n",
    "    plt.axis('off')\n",
    "    plt.legend(['y', 'x'])\n",
    "  \n",
    "plt.subplots_adjust(hspace=1.5)\n",
    "plt.rcParams.update({'font.size': 10})\n"
   ]
  },
  {
   "cell_type": "markdown",
   "metadata": {},
   "source": [
    "# Z-score"
   ]
  },
  {
   "cell_type": "code",
   "execution_count": 13,
   "metadata": {},
   "outputs": [],
   "source": [
    "df_edge_z = df_edge_features[name_combinations].astype(float).apply(stats.zscore)"
   ]
  },
  {
   "cell_type": "code",
   "execution_count": 14,
   "metadata": {},
   "outputs": [
    {
     "data": {
      "text/plain": [
       "Text(0.5, 1.0, 'z-scored edge features')"
      ]
     },
     "execution_count": 14,
     "metadata": {},
     "output_type": "execute_result"
    },
    {
     "data": {
      "image/png": "[encoded data removed]",
      "text/plain": [
       "<Figure size 1080x288 with 1 Axes>"
      ]
     },
     "metadata": {
      "needs_background": "light"
     },
     "output_type": "display_data"
    }
   ],
   "source": [
    "# sanity check\n",
    "plt.figure(figsize=(15, 4))\n",
    "ax = sns.violinplot(data=df_edge_z)\n",
    "plt.title(\"z-scored edge features\")"
   ]
  },
  {
   "cell_type": "code",
   "execution_count": 38,
   "metadata": {},
   "outputs": [],
   "source": [
    "# split z-scored data\n",
    "train_df, test_df = train_test_split(df_edge_z, test_size=0.2)\n",
    "train_df, val_df = train_test_split(train_df, test_size=0.2)"
   ]
  },
  {
   "cell_type": "markdown",
   "metadata": {},
   "source": [
    "# keras tuner for LSTM"
   ]
  },
  {
   "cell_type": "markdown",
   "metadata": {},
   "source": [
    "## create window generator object for making time series datasetes for keras"
   ]
  },
  {
   "cell_type": "code",
   "execution_count": 39,
   "metadata": {},
   "outputs": [],
   "source": [
    "class WindowGenerator():\n",
    "  '''produces index slices for sliding windows\n",
    "  label_columns needs to be more than one term or else will do character splitting\n",
    "  '''\n",
    "  \n",
    "  def __init__(self, input_width, label_width, shift,\n",
    "               train_df, val_df, test_df,\n",
    "               label_columns=None):\n",
    "    # Store the raw data.\n",
    "    self.train_df = train_df\n",
    "    self.val_df = val_df\n",
    "    self.test_df = test_df\n",
    "\n",
    "    # Work out the label column indices.\n",
    "    self.label_columns = label_columns\n",
    "    if label_columns is not None:\n",
    "      self.label_columns_indices = {name: i for i, name in\n",
    "                                    enumerate(label_columns)}\n",
    "    self.column_indices = {name: i for i, name in\n",
    "                           enumerate(train_df.columns)}\n",
    "\n",
    "    # Work out the window parameters.\n",
    "    self.input_width = input_width\n",
    "    self.label_width = label_width\n",
    "    self.shift = shift\n",
    "\n",
    "    self.total_window_size = input_width + shift\n",
    "\n",
    "    self.input_slice = slice(0, input_width)\n",
    "    self.input_indices = np.arange(self.total_window_size)[self.input_slice]\n",
    "\n",
    "    self.label_start = self.total_window_size - self.label_width\n",
    "    self.labels_slice = slice(self.label_start, None)\n",
    "    self.label_indices = np.arange(self.total_window_size)[self.labels_slice]\n",
    "\n",
    "  def __repr__(self):\n",
    "    return '\\n'.join([\n",
    "        f'Total window size: {self.total_window_size}',\n",
    "        f'Input indices: {self.input_indices}',\n",
    "        f'Label indices: {self.label_indices}',\n",
    "        f'Label column name(s): {self.label_columns}'])"
   ]
  },
  {
   "cell_type": "code",
   "execution_count": 40,
   "metadata": {},
   "outputs": [
    {
     "data": {
      "text/plain": [
       "48"
      ]
     },
     "execution_count": 40,
     "metadata": {},
     "output_type": "execute_result"
    }
   ],
   "source": [
    "name_combinations.index('right_elbow-right_wrist-start_x')"
   ]
  },
  {
   "cell_type": "code",
   "execution_count": 41,
   "metadata": {},
   "outputs": [
    {
     "data": {
      "text/plain": [
       "['right_elbow-right_wrist-start_x',\n",
       " 'right_elbow-right_wrist-start_y',\n",
       " 'right_elbow-right_wrist-end_x',\n",
       " 'right_elbow-right_wrist-end_y']"
      ]
     },
     "execution_count": 41,
     "metadata": {},
     "output_type": "execute_result"
    }
   ],
   "source": [
    "name_combinations[48:52]"
   ]
  },
  {
   "cell_type": "code",
   "execution_count": 42,
   "metadata": {},
   "outputs": [
    {
     "data": {
      "text/html": [
       "<div>\n",
       "<style scoped>\n",
       "    .dataframe tbody tr th:only-of-type {\n",
       "        vertical-align: middle;\n",
       "    }\n",
       "\n",
       "    .dataframe tbody tr th {\n",
       "        vertical-align: top;\n",
       "    }\n",
       "\n",
       "    .dataframe thead th {\n",
       "        text-align: right;\n",
       "    }\n",
       "</style>\n",
       "<table border=\"1\" class=\"dataframe\">\n",
       "  <thead>\n",
       "    <tr style=\"text-align: right;\">\n",
       "      <th></th>\n",
       "      <th>right_elbow-right_wrist-start_x</th>\n",
       "      <th>right_elbow-right_wrist-start_y</th>\n",
       "      <th>right_elbow-right_wrist-end_x</th>\n",
       "      <th>right_elbow-right_wrist-end_y</th>\n",
       "    </tr>\n",
       "  </thead>\n",
       "  <tbody>\n",
       "    <tr>\n",
       "      <th>31765</th>\n",
       "      <td>0.908171</td>\n",
       "      <td>-0.039521</td>\n",
       "      <td>0.916549</td>\n",
       "      <td>-0.261401</td>\n",
       "    </tr>\n",
       "    <tr>\n",
       "      <th>24405</th>\n",
       "      <td>-1.254870</td>\n",
       "      <td>-0.134214</td>\n",
       "      <td>-1.307416</td>\n",
       "      <td>-0.034359</td>\n",
       "    </tr>\n",
       "    <tr>\n",
       "      <th>25356</th>\n",
       "      <td>0.163807</td>\n",
       "      <td>0.080588</td>\n",
       "      <td>-0.030879</td>\n",
       "      <td>0.172620</td>\n",
       "    </tr>\n",
       "    <tr>\n",
       "      <th>6822</th>\n",
       "      <td>0.151170</td>\n",
       "      <td>1.050207</td>\n",
       "      <td>0.077563</td>\n",
       "      <td>1.286242</td>\n",
       "    </tr>\n",
       "    <tr>\n",
       "      <th>22235</th>\n",
       "      <td>1.191960</td>\n",
       "      <td>0.058153</td>\n",
       "      <td>0.883283</td>\n",
       "      <td>0.290506</td>\n",
       "    </tr>\n",
       "    <tr>\n",
       "      <th>...</th>\n",
       "      <td>...</td>\n",
       "      <td>...</td>\n",
       "      <td>...</td>\n",
       "      <td>...</td>\n",
       "    </tr>\n",
       "    <tr>\n",
       "      <th>8020</th>\n",
       "      <td>-1.178341</td>\n",
       "      <td>0.063715</td>\n",
       "      <td>-1.296789</td>\n",
       "      <td>0.326787</td>\n",
       "    </tr>\n",
       "    <tr>\n",
       "      <th>36622</th>\n",
       "      <td>1.072565</td>\n",
       "      <td>0.751504</td>\n",
       "      <td>1.231742</td>\n",
       "      <td>-0.715858</td>\n",
       "    </tr>\n",
       "    <tr>\n",
       "      <th>16782</th>\n",
       "      <td>-0.560896</td>\n",
       "      <td>0.159477</td>\n",
       "      <td>-0.716085</td>\n",
       "      <td>0.620565</td>\n",
       "    </tr>\n",
       "    <tr>\n",
       "      <th>34433</th>\n",
       "      <td>1.276699</td>\n",
       "      <td>0.007986</td>\n",
       "      <td>1.174388</td>\n",
       "      <td>0.292807</td>\n",
       "    </tr>\n",
       "    <tr>\n",
       "      <th>22282</th>\n",
       "      <td>1.191722</td>\n",
       "      <td>0.231352</td>\n",
       "      <td>1.223019</td>\n",
       "      <td>-0.066435</td>\n",
       "    </tr>\n",
       "  </tbody>\n",
       "</table>\n",
       "<p>25476 rows × 4 columns</p>\n",
       "</div>"
      ],
      "text/plain": [
       "       right_elbow-right_wrist-start_x  right_elbow-right_wrist-start_y  \\\n",
       "31765                         0.908171                        -0.039521   \n",
       "24405                        -1.254870                        -0.134214   \n",
       "25356                         0.163807                         0.080588   \n",
       "6822                          0.151170                         1.050207   \n",
       "22235                         1.191960                         0.058153   \n",
       "...                                ...                              ...   \n",
       "8020                         -1.178341                         0.063715   \n",
       "36622                         1.072565                         0.751504   \n",
       "16782                        -0.560896                         0.159477   \n",
       "34433                         1.276699                         0.007986   \n",
       "22282                         1.191722                         0.231352   \n",
       "\n",
       "       right_elbow-right_wrist-end_x  right_elbow-right_wrist-end_y  \n",
       "31765                       0.916549                      -0.261401  \n",
       "24405                      -1.307416                      -0.034359  \n",
       "25356                      -0.030879                       0.172620  \n",
       "6822                        0.077563                       1.286242  \n",
       "22235                       0.883283                       0.290506  \n",
       "...                              ...                            ...  \n",
       "8020                       -1.296789                       0.326787  \n",
       "36622                       1.231742                      -0.715858  \n",
       "16782                      -0.716085                       0.620565  \n",
       "34433                       1.174388                       0.292807  \n",
       "22282                       1.223019                      -0.066435  \n",
       "\n",
       "[25476 rows x 4 columns]"
      ]
     },
     "execution_count": 42,
     "metadata": {},
     "output_type": "execute_result"
    }
   ],
   "source": [
    "train_df.iloc[:,48:52]"
   ]
  },
  {
   "cell_type": "code",
   "execution_count": 20,
   "metadata": {},
   "outputs": [
    {
     "data": {
      "text/plain": [
       "Total window size: 31\n",
       "Input indices: [ 0  1  2  3  4  5  6  7  8  9 10 11 12 13 14 15 16 17 18 19 20 21 22 23\n",
       " 24 25 26 27 28 29]\n",
       "Label indices: [30]\n",
       "Label column name(s): ['right_elbow-right_wrist-start_x']"
      ]
     },
     "execution_count": 20,
     "metadata": {},
     "output_type": "execute_result"
    }
   ],
   "source": [
    "w1 = WindowGenerator(input_width=30, label_width=1, shift=1,\n",
    "                      train_df=train_df, val_df=val_df, test_df=test_df,\n",
    "                     label_columns=['right_elbow-right_wrist-start_x'])\n",
    "w1"
   ]
  },
  {
   "cell_type": "code",
   "execution_count": 43,
   "metadata": {},
   "outputs": [],
   "source": [
    "w2_ds_rightarm = WindowGenerator(input_width=90, label_width=1, shift=90,\n",
    "                      train_df=train_df.iloc[:,48:52], val_df=val_df.iloc[:,48:52], test_df=test_df.iloc[:,48:52],\n",
    "                     label_columns=['right_elbow-right_wrist-start_x'])\n",
    "\n"
   ]
  },
  {
   "cell_type": "code",
   "execution_count": 68,
   "metadata": {},
   "outputs": [
    {
     "data": {
      "text/plain": [
       "Total window size: 180\n",
       "Input indices: [ 0  1  2  3  4  5  6  7  8  9 10 11 12 13 14 15 16 17 18 19 20 21 22 23\n",
       " 24 25 26 27 28 29 30 31 32 33 34 35 36 37 38 39 40 41 42 43 44 45 46 47\n",
       " 48 49 50 51 52 53 54 55 56 57 58 59 60 61 62 63 64 65 66 67 68 69 70 71\n",
       " 72 73 74 75 76 77 78 79 80 81 82 83 84 85 86 87 88 89]\n",
       "Label indices: [179]\n",
       "Label column name(s): ['right_elbow-right_wrist-start_x']"
      ]
     },
     "execution_count": 68,
     "metadata": {},
     "output_type": "execute_result"
    }
   ],
   "source": [
    "w2_ds_rightarm"
   ]
  },
  {
   "cell_type": "code",
   "execution_count": 44,
   "metadata": {},
   "outputs": [],
   "source": [
    "def split_window(self, features):\n",
    "  inputs = features[:, self.input_slice, :]\n",
    "  labels = features[:, self.labels_slice, :]\n",
    "  \n",
    "  if self.label_columns is not None:\n",
    "   \n",
    "    labels = tf.stack(\n",
    "        [labels[:, :, self.column_indices[name]] for name in self.label_columns],\n",
    "        axis=-1)\n",
    "\n",
    "  # Slicing doesn't preserve static shape information, so set the shapes\n",
    "  # manually. This way the `tf.data.Datasets` are easier to inspect.\n",
    "  inputs.set_shape([None, self.input_width, None])\n",
    "  labels.set_shape([None, self.label_width, None])\n",
    "\n",
    "  return inputs, labels\n",
    "\n",
    "WindowGenerator.split_window = split_window"
   ]
  },
  {
   "cell_type": "code",
   "execution_count": 45,
   "metadata": {},
   "outputs": [],
   "source": [
    "def make_dataset(self, data):\n",
    "  data = np.array(data, dtype=np.float32)\n",
    "  ds = tf.keras.utils.timeseries_dataset_from_array(\n",
    "      data=data,\n",
    "      targets=None,\n",
    "      sequence_length=self.total_window_size,\n",
    "      sequence_stride=1,\n",
    "      shuffle=True,\n",
    "      batch_size=32,)\n",
    "\n",
    "  ds = ds.map(self.split_window)\n",
    "\n",
    "  return ds\n",
    "\n",
    "WindowGenerator.make_dataset = make_dataset\n",
    "\n",
    "@property\n",
    "def train(self):\n",
    "  return self.make_dataset(self.train_df)\n",
    "\n",
    "@property\n",
    "def val(self):\n",
    "  return self.make_dataset(self.val_df)\n",
    "\n",
    "@property\n",
    "def test(self):\n",
    "  return self.make_dataset(self.test_df)\n",
    "\n",
    "@property\n",
    "def example(self):\n",
    "  \"\"\"Get and cache an example batch of `inputs, labels` for plotting.\"\"\"\n",
    "  result = getattr(self, '_example', None)\n",
    "  if result is None:\n",
    "    # No example batch was found, so get one from the `.train` dataset\n",
    "    result = next(iter(self.train))\n",
    "    # And cache it for next time\n",
    "    self._example = result\n",
    "  return result\n",
    "\n",
    "WindowGenerator.train = train\n",
    "WindowGenerator.val = val\n",
    "WindowGenerator.test = test\n",
    "WindowGenerator.example = example"
   ]
  },
  {
   "cell_type": "code",
   "execution_count": 47,
   "metadata": {},
   "outputs": [
    {
     "name": "stdout",
     "output_type": "stream",
     "text": [
      "Inputs shape (batch, time, features): (32, 90, 4)\n",
      "Labels shape (batch, time, features): (32, 1, 1)\n",
      "Inputs shape (batch, time, features): (32, 90, 4)\n",
      "Labels shape (batch, time, features): (32, 1, 1)\n",
      "Inputs shape (batch, time, features): (32, 90, 4)\n",
      "Labels shape (batch, time, features): (32, 1, 1)\n"
     ]
    }
   ],
   "source": [
    "for example_inputs, example_labels in w2_ds_rightarm.train.take(3):\n",
    "  print(f'Inputs shape (batch, time, features): {example_inputs.shape}')\n",
    "  print(f'Labels shape (batch, time, features): {example_labels.shape}')"
   ]
  },
  {
   "cell_type": "code",
   "execution_count": 48,
   "metadata": {},
   "outputs": [
    {
     "data": {
      "text/plain": [
       "<tf.Tensor: shape=(32, 90, 4), dtype=float32, numpy=\n",
       "array([[[ 0.7009319 ,  0.36087495,  0.59486   ,  0.78807443],\n",
       "        [ 0.8741552 ,  0.04238962,  0.7991372 , -0.19794764],\n",
       "        [ 1.3056468 ,  0.0280622 ,  1.3259479 ,  0.2575331 ],\n",
       "        ...,\n",
       "        [-0.04896962,  0.40269354, -0.06540278,  0.65617955],\n",
       "        [-0.7716804 , -0.9577692 , -0.76686794, -1.1484168 ],\n",
       "        [ 0.57823277, -0.83921313,  0.67171896, -0.88896817]],\n",
       "\n",
       "       [[-1.0321599 , -1.2183601 , -0.74222404, -1.3555803 ],\n",
       "        [-0.04814066, -1.1873828 ,  0.45460844, -1.3425109 ],\n",
       "        [-0.2433331 , -0.06683321, -0.3844131 , -0.09237085],\n",
       "        ...,\n",
       "        [ 1.2639035 , -0.6311153 ,  1.3962091 , -0.9938976 ],\n",
       "        [ 0.52706   ,  0.20343587,  0.29551506,  0.41249716],\n",
       "        [ 0.78577346,  0.10808875,  0.8972293 ,  0.17322779]],\n",
       "\n",
       "       [[ 0.07968815,  0.6608663 , -0.08167577,  0.86819243],\n",
       "        [-0.89439946,  1.3296348 , -1.0007396 ,  1.5894171 ],\n",
       "        [ 0.00888142, -1.0861452 , -0.2993512 , -1.4660743 ],\n",
       "        ...,\n",
       "        [-0.10397577,  0.52500933,  0.21457745, -0.13296343],\n",
       "        [-1.4172908 , -1.0979607 , -1.4313347 , -1.8702129 ],\n",
       "        [ 1.1294802 , -0.45546392,  1.0453614 , -0.58717877]],\n",
       "\n",
       "       ...,\n",
       "\n",
       "       [[-0.5635647 , -0.7306539 , -0.5169781 , -1.2490928 ],\n",
       "        [-1.3818157 ,  0.12268191, -1.3621249 ,  0.42409486],\n",
       "        [-0.05131439, -0.27128997, -0.45458996, -0.65920335],\n",
       "        ...,\n",
       "        [ 1.1890141 ,  0.15004346,  1.4485382 , -0.26119342],\n",
       "        [ 1.0754194 , -0.04940718,  0.98668426,  0.41453138],\n",
       "        [-1.4513156 , -0.65293175, -1.6074903 , -1.314057  ]],\n",
       "\n",
       "       [[-0.81129146,  0.8291528 , -0.81038165,  0.8881832 ],\n",
       "        [ 0.0660539 ,  0.6444743 , -0.0870442 ,  0.8682307 ],\n",
       "        [-1.8924357 ,  1.0265459 , -1.7199599 ,  1.4653939 ],\n",
       "        ...,\n",
       "        [ 0.96690625,  0.04384644,  0.79526514,  0.2610415 ],\n",
       "        [ 0.9097053 ,  0.07869403,  0.92440987,  0.05157467],\n",
       "        [ 1.9050562 , -1.2213879 ,  2.0812812 , -1.4042612 ]],\n",
       "\n",
       "       [[ 0.36463666,  0.639343  ,  0.34489778,  0.6456439 ],\n",
       "        [-0.15806058,  0.6483118 , -0.25433284,  0.87672067],\n",
       "        [ 0.9668298 ,  0.34604847,  1.0384258 , -0.08359655],\n",
       "        ...,\n",
       "        [-0.518593  , -0.48422396, -0.4603415 , -0.87590206],\n",
       "        [-2.0885446 , -7.538652  , -2.0520887 , -5.061777  ],\n",
       "        [-0.12761027,  0.37238395, -0.2106477 ,  0.472546  ]]],\n",
       "      dtype=float32)>"
      ]
     },
     "execution_count": 48,
     "metadata": {},
     "output_type": "execute_result"
    }
   ],
   "source": [
    "example_inputs"
   ]
  },
  {
   "cell_type": "markdown",
   "metadata": {},
   "source": [
    "## set up model compiler, performance metrics"
   ]
  },
  {
   "cell_type": "code",
   "execution_count": 49,
   "metadata": {},
   "outputs": [],
   "source": [
    "def compile_and_fit(model, window, patience=10):\n",
    "  early_stopping = tf.keras.callbacks.EarlyStopping(monitor='val_loss',\n",
    "                                                    patience=patience,\n",
    "                                                    mode='min')\n",
    "\n",
    "  model.compile(loss=tf.losses.MeanSquaredError(),\n",
    "                # optimizer=tf.optimizers.Adam(),\n",
    "                optimizer=tf.optimizers.SGD(),\n",
    "                metrics=[tf.metrics.MeanAbsoluteError()])\n",
    "\n",
    "  history = model.fit(window.train, epochs=MAX_EPOCHS,\n",
    "                      validation_data=window.val,\n",
    "                      callbacks=[early_stopping])\n",
    "  return history\n"
   ]
  },
  {
   "cell_type": "code",
   "execution_count": 50,
   "metadata": {},
   "outputs": [],
   "source": [
    "# dicts to store performance metrics\n",
    "val_performance = {}\n",
    "performance = {}\n",
    "\n",
    "# focus on hand, elbow\n",
    "label_index = 48"
   ]
  },
  {
   "cell_type": "code",
   "execution_count": 51,
   "metadata": {},
   "outputs": [],
   "source": [
    "# to test baseline runs\n",
    "MAX_EPOCHS = 3"
   ]
  },
  {
   "cell_type": "markdown",
   "metadata": {},
   "source": [
    "## baseline"
   ]
  },
  {
   "cell_type": "code",
   "execution_count": null,
   "metadata": {},
   "outputs": [],
   "source": [
    "# baseline\n",
    "class Baseline(tf.keras.Model):\n",
    "  def __init__(self, label_index=None):\n",
    "    super().__init__()\n",
    "    self.label_index = label_index\n",
    "\n",
    "  def call(self, inputs):\n",
    "    if self.label_index is None:\n",
    "      return inputs\n",
    "    result = inputs[:, :, self.label_index]\n",
    "    return result[:, :, tf.newaxis]\n",
    "\n",
    "baseline = Baseline()\n",
    "\n",
    "baseline.compile(loss=tf.losses.MeanSquaredError(),\n",
    "                 metrics=[tf.metrics.MeanAbsoluteError()])\n"
   ]
  },
  {
   "cell_type": "code",
   "execution_count": null,
   "metadata": {},
   "outputs": [],
   "source": [
    "# store\n",
    "val_performance['Baseline'] = baseline.evaluate(w1.val)\n",
    "performance['Baseline'] = baseline.evaluate(w1.test, verbose=0)"
   ]
  },
  {
   "cell_type": "code",
   "execution_count": null,
   "metadata": {},
   "outputs": [],
   "source": [
    "linear = tf.keras.Sequential([\n",
    "    tf.keras.layers.Dense(units=1)\n",
    "])"
   ]
  },
  {
   "cell_type": "code",
   "execution_count": null,
   "metadata": {},
   "outputs": [],
   "source": [
    "history = compile_and_fit(linear, w1)\n",
    "\n",
    "val_performance['Linear'] = linear.evaluate(w1.val)\n",
    "performance['Linear'] = linear.evaluate(w1.test, verbose=0)"
   ]
  },
  {
   "cell_type": "code",
   "execution_count": null,
   "metadata": {},
   "outputs": [],
   "source": [
    "dense = tf.keras.Sequential([\n",
    "    tf.keras.layers.Dense(units=128, activation='relu'),\n",
    "    tf.keras.layers.Dense(units=128, activation='relu'),\n",
    "    tf.keras.layers.Dense(units=1)\n",
    "])\n",
    "\n",
    "history = compile_and_fit(dense, w1)\n",
    "\n",
    "val_performance['Dense'] = dense.evaluate(w1.val)\n",
    "performance['Dense'] = dense.evaluate(w1.test, verbose=0)"
   ]
  },
  {
   "cell_type": "markdown",
   "metadata": {},
   "source": [
    "## test out LSTM"
   ]
  },
  {
   "cell_type": "code",
   "execution_count": 52,
   "metadata": {},
   "outputs": [],
   "source": [
    "MAX_EPOCHS = 2"
   ]
  },
  {
   "cell_type": "code",
   "execution_count": 53,
   "metadata": {},
   "outputs": [
    {
     "name": "stdout",
     "output_type": "stream",
     "text": [
      "Epoch 1/2\n",
      "791/791 [==============================] - 9s 9ms/step - loss: 0.9994 - mean_absolute_error: 0.8501 - val_loss: 0.9906 - val_mean_absolute_error: 0.8441\n",
      "Epoch 2/2\n",
      "791/791 [==============================] - 7s 9ms/step - loss: 0.9992 - mean_absolute_error: 0.8500 - val_loss: 0.9896 - val_mean_absolute_error: 0.8435\n"
     ]
    }
   ],
   "source": [
    "lstm_model = tf.keras.models.Sequential([\n",
    "    \n",
    "    # Shape [batch, time, features] => [batch, time, lstm_units]\n",
    "    tf.keras.layers.LSTM(128, return_sequences=True, dropout=0.2),\n",
    "\n",
    "    # Shape => [batch, time, features]\n",
    "    tf.keras.layers.Dense(units=1)\n",
    "])\n",
    "\n",
    "history = compile_and_fit(lstm_model, w2_ds_rightarm)\n"
   ]
  },
  {
   "cell_type": "code",
   "execution_count": 54,
   "metadata": {},
   "outputs": [
    {
     "name": "stdout",
     "output_type": "stream",
     "text": [
      "194/194 [==============================] - 1s 4ms/step - loss: 0.9896 - mean_absolute_error: 0.8435\n"
     ]
    }
   ],
   "source": [
    "import IPython\n",
    "import IPython.display\n",
    "\n",
    "IPython.display.clear_output()\n",
    "val_performance['LSTM'] = lstm_model.evaluate(w2_ds_rightarm.val)\n",
    "performance['LSTM'] = lstm_model.evaluate(w2_ds_rightarm.test, verbose=0)"
   ]
  },
  {
   "cell_type": "code",
   "execution_count": 55,
   "metadata": {},
   "outputs": [
    {
     "data": {
      "text/plain": [
       "{'LSTM': [1.0094631910324097, 0.8534476161003113]}"
      ]
     },
     "execution_count": 55,
     "metadata": {},
     "output_type": "execute_result"
    }
   ],
   "source": [
    "performance"
   ]
  },
  {
   "cell_type": "markdown",
   "metadata": {},
   "source": [
    "#### test out keras tuner"
   ]
  },
  {
   "cell_type": "code",
   "execution_count": 65,
   "metadata": {},
   "outputs": [],
   "source": [
    "from tensorflow import keras\n",
    "import keras_tuner as kt\n",
    "\n",
    "def model_builder(hp):\n",
    "  model = keras.Sequential()\n",
    "  # model.add(keras.layers.Flatten(input_shape=(32, 1)))\n",
    "  # model.add(keras.layers.LSTM(128, return_sequences=True, dropout=0.2))\n",
    "\n",
    "  hp_lstm_units = hp.Int('lstm_units', min_value=32, max_value=512, step=32)\n",
    "  model.add(keras.layers.LSTM(units=hp_lstm_units, return_sequences=True, dropout=0.2))\n",
    "\n",
    "  # Tune the number of units in the first Dense layer\n",
    "\n",
    "  # # Choose an optimal value between 32-512\n",
    "  hp_units = hp.Int('units', min_value=32, max_value=512, step=32)\n",
    "  model.add(keras.layers.Dense(units=hp_units, activation='relu'))\n",
    "  model.add(keras.layers.Dense(10))\n",
    "  \n",
    "  # # Choose an optimal value between 32-512\n",
    "  # hp_units = hp.Int('units', min_value=1, max_value=5, step=1)\n",
    "  # model.add(keras.layers.Dense(units=hp_units, activation='relu'))\n",
    "  # model.add(keras.layers.Dense(10))\n",
    "\n",
    "  # Tune the learning rate for the optimizer\n",
    "  # Choose an optimal value from 0.01, 0.001, or 0.0001\n",
    "  hp_learning_rate = hp.Choice('learning_rate', values=[1e-2, 1e-3, 1e-4])\n",
    "\n",
    "  model.compile(optimizer=keras.optimizers.Adam(learning_rate=hp_learning_rate),\n",
    "                # loss=keras.losses.SparseCategoricalCrossentropy(),\n",
    "                loss=keras.losses.MeanSquaredError(),\n",
    "                metrics=['MeanSquaredError', 'CosineSimilarity'])\n",
    "\n",
    "  return model\n",
    "\n",
    "stop_early = tf.keras.callbacks.EarlyStopping(monitor='val_loss', patience=10)"
   ]
  },
  {
   "cell_type": "code",
   "execution_count": 66,
   "metadata": {},
   "outputs": [],
   "source": [
    "tuner = kt.Hyperband(model_builder,\n",
    "                     objective='val_loss',\n",
    "                     max_epochs=20,\n",
    "                     factor=3,\n",
    "                     directory='my_dir',\n",
    "                     project_name='intro_to_kt_2.3')"
   ]
  },
  {
   "cell_type": "code",
   "execution_count": 67,
   "metadata": {},
   "outputs": [
    {
     "name": "stdout",
     "output_type": "stream",
     "text": [
      "Trial 30 Complete [00h 01m 27s]\n",
      "val_loss: 0.9895589351654053\n",
      "\n",
      "Best val_loss So Far: 0.989288330078125\n",
      "Total elapsed time: 00h 29m 01s\n",
      "INFO:tensorflow:Oracle triggered exit\n",
      "\n",
      "The hyperparameter search is complete. The optimal number of units in the lstm is 128, first densely-connected\n",
      "layer is 352, and the optimal learning rate for the optimizer\n",
      "is 0.01.\n",
      "\n"
     ]
    }
   ],
   "source": [
    "tuner.search(w2_ds_rightarm.train, epochs=50, validation_data=w2_ds_rightarm.val, callbacks=[stop_early])\n",
    "\n",
    "# Get the optimal hyperparameters\n",
    "best_hps=tuner.get_best_hyperparameters(num_trials=1)[0]\n",
    "\n",
    "print(f\"\"\"\n",
    "The hyperparameter search is complete. The optimal number of units in the lstm is {best_hps.get('lstm_units')}, first densely-connected\n",
    "layer is {best_hps.get('units')}, and the optimal learning rate for the optimizer\n",
    "is {best_hps.get('learning_rate')}.\n",
    "\"\"\")"
   ]
  },
  {
   "cell_type": "code",
   "execution_count": null,
   "metadata": {},
   "outputs": [],
   "source": []
  }
 ],
 "metadata": {
  "interpreter": {
   "hash": "cdc12a5aac31d9e1de0e00df0df1718282c51a8f89da2466b7e29698f5fad77a"
  },
  "kernelspec": {
   "display_name": "Python 3.9.12 ('tf-gpu-cv')",
   "language": "python",
   "name": "python3"
  },
  "language_info": {
   "codemirror_mode": {
    "name": "ipython",
    "version": 3
   },
   "file_extension": ".py",
   "mimetype": "text/x-python",
   "name": "python",
   "nbconvert_exporter": "python",
   "pygments_lexer": "ipython3",
   "version": "3.9.12"
  },
  "orig_nbformat": 4
 },
 "nbformat": 4,
 "nbformat_minor": 2
}
